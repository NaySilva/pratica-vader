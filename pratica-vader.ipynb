{
 "cells": [
  {
   "cell_type": "markdown",
   "metadata": {},
   "source": [
    "## Instalar Vader em Python\n",
    "```$ pip install vaderSentiment```"
   ]
  },
  {
   "cell_type": "markdown",
   "metadata": {},
   "source": [
    "## Importar Vader"
   ]
  },
  {
   "cell_type": "code",
   "execution_count": 19,
   "metadata": {
    "collapsed": true
   },
   "outputs": [],
   "source": [
    "from vaderSentiment.vaderSentiment import SentimentIntensityAnalyzer"
   ]
  },
  {
   "cell_type": "code",
   "execution_count": 20,
   "metadata": {
    "collapsed": true
   },
   "outputs": [],
   "source": [
    "analyzer = SentimentIntensityAnalyzer()"
   ]
  },
  {
   "cell_type": "code",
   "execution_count": 21,
   "metadata": {
    "collapsed": true
   },
   "outputs": [],
   "source": [
    "sentence = 'Bad service delay'"
   ]
  },
  {
   "cell_type": "code",
   "execution_count": 22,
   "metadata": {},
   "outputs": [
    {
     "data": {
      "text/plain": [
       "{'compound': -0.7003, 'neg': 0.853, 'neu': 0.147, 'pos': 0.0}"
      ]
     },
     "execution_count": 22,
     "metadata": {},
     "output_type": "execute_result"
    }
   ],
   "source": [
    "analyzer.polarity_scores(sentence)"
   ]
  },
  {
   "cell_type": "code",
   "execution_count": 24,
   "metadata": {
    "collapsed": true
   },
   "outputs": [],
   "source": [
    "def results_sentiments(sentences):\n",
    "    for sentence in sentences:\n",
    "        vs = analyzer.polarity_scores(sentence)\n",
    "        print(\"{:-<50} {}\".format(sentence, str(vs)))"
   ]
  },
  {
   "cell_type": "code",
   "execution_count": 25,
   "metadata": {
    "collapsed": true
   },
   "outputs": [],
   "source": [
    "def get_polarity(sentences):\n",
    "    for sentence in sentences:\n",
    "        vs = analyzer.polarity_scores(sentence)\n",
    "        if vs['compound'] >= 0.5:\n",
    "            polarity = 'positive'\n",
    "        elif vs['compound'] <= -0.5:\n",
    "            polarity = 'negative'\n",
    "        else: polarity = 'neutral'\n",
    "        print(\"{:-<50} {}\".format(sentence, polarity))"
   ]
  },
  {
   "cell_type": "code",
   "execution_count": 26,
   "metadata": {},
   "outputs": [
    {
     "name": "stdout",
     "output_type": "stream",
     "text": [
      "Bad service delay--------------------------------- negative\n"
     ]
    }
   ],
   "source": [
    "get_polarity(['Bad service delay'])"
   ]
  },
  {
   "cell_type": "markdown",
   "metadata": {},
   "source": [
    "## Estudo de caso 1 \n"
   ]
  },
  {
   "cell_type": "code",
   "execution_count": 27,
   "metadata": {},
   "outputs": [
    {
     "name": "stdout",
     "output_type": "stream",
     "text": [
      "I like Brazil------------------------------------- {'pos': 0.714, 'compound': 0.3612, 'neu': 0.286, 'neg': 0.0}\n",
      "I love Brazil------------------------------------- {'pos': 0.808, 'compound': 0.6369, 'neu': 0.192, 'neg': 0.0}\n"
     ]
    }
   ],
   "source": [
    "sentences = ['I like Brazil','I love Brazil']\n",
    "results_sentiments(sentences)"
   ]
  },
  {
   "cell_type": "code",
   "execution_count": 28,
   "metadata": {},
   "outputs": [
    {
     "name": "stdout",
     "output_type": "stream",
     "text": [
      ":)------------------------------------------------ {'pos': 1.0, 'compound': 0.4588, 'neu': 0.0, 'neg': 0.0}\n",
      ":D------------------------------------------------ {'pos': 1.0, 'compound': 0.5106, 'neu': 0.0, 'neg': 0.0}\n",
      "LOL----------------------------------------------- {'pos': 1.0, 'compound': 0.4215, 'neu': 0.0, 'neg': 0.0}\n",
      "Sux----------------------------------------------- {'pos': 0.0, 'compound': -0.3612, 'neu': 0.0, 'neg': 1.0}\n",
      ":/------------------------------------------------ {'pos': 0.0, 'compound': -0.34, 'neu': 0.0, 'neg': 1.0}\n",
      ":(------------------------------------------------ {'pos': 0.0, 'compound': -0.4404, 'neu': 0.0, 'neg': 1.0}\n"
     ]
    }
   ],
   "source": [
    "sentences = [':)', ':D', 'LOL', 'Sux', ':/', ':(']\n",
    "results_sentiments(sentences)"
   ]
  },
  {
   "cell_type": "code",
   "execution_count": 29,
   "metadata": {},
   "outputs": [
    {
     "name": "stdout",
     "output_type": "stream",
     "text": [
      "You are funny------------------------------------- {'pos': 0.592, 'compound': 0.4404, 'neu': 0.408, 'neg': 0.0}\n",
      "You aren't funny---------------------------------- {'pos': 0.0, 'compound': -0.3412, 'neu': 0.454, 'neg': 0.546}\n"
     ]
    }
   ],
   "source": [
    "sentences = [\"You are funny\",\"You aren't funny\"]\n",
    "results_sentiments(sentences)"
   ]
  },
  {
   "cell_type": "code",
   "execution_count": 30,
   "metadata": {},
   "outputs": [
    {
     "name": "stdout",
     "output_type": "stream",
     "text": [
      "The plot was good, but the characters are uncompressed and the dialogue is not great. {'pos': 0.101, 'compound': -0.5409, 'neu': 0.67, 'neg': 0.229}\n"
     ]
    }
   ],
   "source": [
    "sentences = ['The plot was good, but the characters are uncompressed and the dialogue is not great.']\n",
    "results_sentiments(sentences)"
   ]
  },
  {
   "cell_type": "code",
   "execution_count": 31,
   "metadata": {},
   "outputs": [
    {
     "name": "stdout",
     "output_type": "stream",
     "text": [
      "At least it isn't a horrible book----------------- {'pos': 0.363, 'compound': 0.431, 'neu': 0.637, 'neg': 0.0}\n"
     ]
    }
   ],
   "source": [
    "sentences = [\"At least it isn't a horrible book\"]\n",
    "results_sentiments(sentences)"
   ]
  },
  {
   "cell_type": "code",
   "execution_count": 32,
   "metadata": {},
   "outputs": [
    {
     "name": "stdout",
     "output_type": "stream",
     "text": [
      "The party was really good.------------------------ {'pos': 0.663, 'compound': 0.7089, 'neu': 0.337, 'neg': 0.0}\n",
      "The party was REALLY GOOD.------------------------ {'pos': 0.71, 'compound': 0.8105, 'neu': 0.29, 'neg': 0.0}\n",
      "The party was REALLY GOOD!!!---------------------- {'pos': 0.733, 'compound': 0.8495, 'neu': 0.267, 'neg': 0.0}\n"
     ]
    }
   ],
   "source": [
    "sentences = ['The party was really good.', 'The party was REALLY GOOD.', 'The party was REALLY GOOD!!!']\n",
    "results_sentiments(sentences)"
   ]
  },
  {
   "cell_type": "markdown",
   "metadata": {},
   "source": [
    "## Estudo de caso 2 - Tradução"
   ]
  },
  {
   "cell_type": "code",
   "execution_count": 33,
   "metadata": {
    "collapsed": true
   },
   "outputs": [],
   "source": [
    "key = open('api_key', 'r').readline().strip()"
   ]
  },
  {
   "cell_type": "code",
   "execution_count": 34,
   "metadata": {
    "collapsed": true
   },
   "outputs": [],
   "source": [
    "from googleapiclient.discovery import build\n",
    "service = build('translate', 'v2', developerKey=key)\n",
    "def translate(sentence, lang='en'):\n",
    "    return service.translations().list(source='pt', target=lang, q=sentence).execute()['translations'][0][\n",
    "            'translatedText']"
   ]
  },
  {
   "cell_type": "code",
   "execution_count": 35,
   "metadata": {},
   "outputs": [
    {
     "data": {
      "text/plain": [
       "'This movie was perfect!'"
      ]
     },
     "execution_count": 35,
     "metadata": {},
     "output_type": "execute_result"
    }
   ],
   "source": [
    "translate('Este filme foi perfeito!')"
   ]
  },
  {
   "cell_type": "code",
   "execution_count": 36,
   "metadata": {
    "collapsed": true
   },
   "outputs": [],
   "source": [
    "def results_sentiments_pt(sentences):\n",
    "    sentences = map(lambda x: (x,translate(x)), sentences)\n",
    "    for pt, en in sentences:\n",
    "        vs = analyzer.polarity_scores(en)\n",
    "        print(\"{:-<50} {}\".format(pt, str(vs)))"
   ]
  },
  {
   "cell_type": "code",
   "execution_count": 37,
   "metadata": {},
   "outputs": [
    {
     "name": "stdout",
     "output_type": "stream",
     "text": [
      "Este filme foi perfeito!-------------------------- {'pos': 0.571, 'compound': 0.6114, 'neu': 0.429, 'neg': 0.0}\n",
      "Ahh! Não gostei deste filme.---------------------- {'pos': 0.0, 'compound': -0.3404, 'neu': 0.675, 'neg': 0.325}\n"
     ]
    }
   ],
   "source": [
    "results_sentiments_pt(['Este filme foi perfeito!','Ahh! Não gostei deste filme.'])"
   ]
  },
  {
   "cell_type": "code",
   "execution_count": null,
   "metadata": {
    "collapsed": true
   },
   "outputs": [],
   "source": []
  }
 ],
 "metadata": {
  "kernelspec": {
   "display_name": "Python 3",
   "language": "python",
   "name": "python3"
  },
  "language_info": {
   "codemirror_mode": {
    "name": "ipython",
    "version": 3
   },
   "file_extension": ".py",
   "mimetype": "text/x-python",
   "name": "python",
   "nbconvert_exporter": "python",
   "pygments_lexer": "ipython3",
   "version": "3.5.2"
  }
 },
 "nbformat": 4,
 "nbformat_minor": 2
}
