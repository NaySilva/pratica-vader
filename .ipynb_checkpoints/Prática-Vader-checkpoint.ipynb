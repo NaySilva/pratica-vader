{
 "cells": [
  {
   "cell_type": "markdown",
   "metadata": {},
   "source": [
    "## Instalar Vader em Python\n",
    "```$ pip install vaderSentiment```"
   ]
  },
  {
   "cell_type": "markdown",
   "metadata": {},
   "source": [
    "## Importar Vader"
   ]
  },
  {
   "cell_type": "code",
   "execution_count": 10,
   "metadata": {
    "collapsed": true
   },
   "outputs": [],
   "source": [
    "from vaderSentiment.vaderSentiment import SentimentIntensityAnalyzer"
   ]
  },
  {
   "cell_type": "code",
   "execution_count": 11,
   "metadata": {
    "collapsed": true
   },
   "outputs": [],
   "source": [
    "analyzer = SentimentIntensityAnalyzer()"
   ]
  },
  {
   "cell_type": "code",
   "execution_count": 12,
   "metadata": {
    "collapsed": true
   },
   "outputs": [],
   "source": [
    "sentence = 'Bad service delay'"
   ]
  },
  {
   "cell_type": "code",
   "execution_count": 13,
   "metadata": {},
   "outputs": [
    {
     "data": {
      "text/plain": [
       "{'compound': -0.7003, 'neg': 0.853, 'neu': 0.147, 'pos': 0.0}"
      ]
     },
     "execution_count": 13,
     "metadata": {},
     "output_type": "execute_result"
    }
   ],
   "source": [
    "analyzer.polarity_scores(sentence)"
   ]
  },
  {
   "cell_type": "code",
   "execution_count": 14,
   "metadata": {
    "collapsed": true
   },
   "outputs": [],
   "source": [
    "def results_sentiments(sentences):\n",
    "    for sentence in sentences:\n",
    "        vs = analyzer.polarity_scores(sentence)\n",
    "        print(\"{:-<50} {}\".format(sentence, str(vs)))"
   ]
  },
  {
   "cell_type": "code",
   "execution_count": 6,
   "metadata": {
    "collapsed": true
   },
   "outputs": [],
   "source": [
    "def get_polarity(sentences):\n",
    "    for sentence in sentences:\n",
    "        vs = analyzer.polarity_scores(sentence)\n",
    "        if vs['compound'] >= 0.5:\n",
    "            polarity = 'positive'\n",
    "        elif vs['compound'] <= -0.5:\n",
    "            polarity = 'negative'\n",
    "        else: polarity = 'neutral'\n",
    "        print(\"{:-<50} {}\".format(sentence, polarity))"
   ]
  },
  {
   "cell_type": "code",
   "execution_count": 7,
   "metadata": {},
   "outputs": [
    {
     "name": "stdout",
     "output_type": "stream",
     "text": [
      "Bad service delay--------------------------------- negative\n"
     ]
    }
   ],
   "source": [
    "get_polarity(['Bad service delay'])"
   ]
  },
  {
   "cell_type": "markdown",
   "metadata": {},
   "source": [
    "## Intensidade de sentimento"
   ]
  },
  {
   "cell_type": "code",
   "execution_count": 9,
   "metadata": {},
   "outputs": [
    {
     "name": "stdout",
     "output_type": "stream",
     "text": [
      "I like Brazil------------------------------------- {'neg': 0.0, 'compound': 0.3612, 'pos': 0.714, 'neu': 0.286}\n",
      "I love Brazil------------------------------------- {'neg': 0.0, 'compound': 0.6369, 'pos': 0.808, 'neu': 0.192}\n"
     ]
    }
   ],
   "source": [
    "sentences = ['I like Brazil','I love Brazil']\n",
    "results_sentiments(sentences)"
   ]
  },
  {
   "cell_type": "code",
   "execution_count": 16,
   "metadata": {},
   "outputs": [
    {
     "name": "stdout",
     "output_type": "stream",
     "text": [
      ":)------------------------------------------------ {'neg': 0.0, 'compound': 0.4588, 'pos': 1.0, 'neu': 0.0}\n",
      ":D------------------------------------------------ {'neg': 0.0, 'compound': 0.5106, 'pos': 1.0, 'neu': 0.0}\n",
      "LOL----------------------------------------------- {'neg': 0.0, 'compound': 0.4215, 'pos': 1.0, 'neu': 0.0}\n",
      "Sux----------------------------------------------- {'neg': 1.0, 'compound': -0.3612, 'pos': 0.0, 'neu': 0.0}\n",
      ":/------------------------------------------------ {'neg': 1.0, 'compound': -0.34, 'pos': 0.0, 'neu': 0.0}\n",
      ":(------------------------------------------------ {'neg': 1.0, 'compound': -0.4404, 'pos': 0.0, 'neu': 0.0}\n"
     ]
    }
   ],
   "source": [
    "sentences = [':)', ':D', 'LOL', 'Sux', ':/', ':(']\n",
    "results_sentiments(sentences)"
   ]
  },
  {
   "cell_type": "code",
   "execution_count": 11,
   "metadata": {},
   "outputs": [
    {
     "name": "stdout",
     "output_type": "stream",
     "text": [
      "You are funny------------------------------------- {'neg': 0.0, 'compound': 0.4404, 'pos': 0.592, 'neu': 0.408}\n",
      "You aren't funny---------------------------------- {'neg': 0.546, 'compound': -0.3412, 'pos': 0.0, 'neu': 0.454}\n"
     ]
    }
   ],
   "source": [
    "sentences = [\"You are funny\",\"You aren't funny\"]\n",
    "results_sentiments(sentences)"
   ]
  },
  {
   "cell_type": "code",
   "execution_count": 12,
   "metadata": {},
   "outputs": [
    {
     "name": "stdout",
     "output_type": "stream",
     "text": [
      "The plot was good, but the characters are uncompressed and the dialogue is not great. {'neg': 0.229, 'compound': -0.5409, 'pos': 0.101, 'neu': 0.67}\n"
     ]
    }
   ],
   "source": [
    "sentences = ['The plot was good, but the characters are uncompressed and the dialogue is not great.']\n",
    "results_sentiments(sentences)"
   ]
  },
  {
   "cell_type": "code",
   "execution_count": 13,
   "metadata": {},
   "outputs": [
    {
     "name": "stdout",
     "output_type": "stream",
     "text": [
      "At least it isn't a horrible book----------------- {'neg': 0.0, 'compound': 0.431, 'pos': 0.363, 'neu': 0.637}\n"
     ]
    }
   ],
   "source": [
    "sentences = [\"At least it isn't a horrible book\"]\n",
    "results_sentiments(sentences)"
   ]
  },
  {
   "cell_type": "code",
   "execution_count": 14,
   "metadata": {},
   "outputs": [
    {
     "name": "stdout",
     "output_type": "stream",
     "text": [
      "The party was really good.------------------------ {'neg': 0.0, 'compound': 0.7089, 'pos': 0.663, 'neu': 0.337}\n",
      "The party was REALLY GOOD.------------------------ {'neg': 0.0, 'compound': 0.8105, 'pos': 0.71, 'neu': 0.29}\n",
      "The party was REALLY GOOD!!!---------------------- {'neg': 0.0, 'compound': 0.8495, 'pos': 0.733, 'neu': 0.267}\n"
     ]
    }
   ],
   "source": [
    "sentences = ['The party was really good.', 'The party was REALLY GOOD.', 'The party was REALLY GOOD!!!']\n",
    "results_sentiments(sentences)"
   ]
  },
  {
   "cell_type": "markdown",
   "metadata": {},
   "source": [
    "## Analisar sentenças em português"
   ]
  },
  {
   "cell_type": "code",
   "execution_count": 5,
   "metadata": {},
   "outputs": [],
   "source": [
    "key = open('api_key', 'r').readline().strip()"
   ]
  },
  {
   "cell_type": "code",
   "execution_count": 6,
   "metadata": {
    "collapsed": true
   },
   "outputs": [],
   "source": [
    "from googleapiclient.discovery import build\n",
    "service = build('translate', 'v2', developerKey=key)\n",
    "def translate(sentence, lang='en'):\n",
    "    return service.translations().list(source='pt', target=lang, q=sentence).execute()['translations'][0][\n",
    "            'translatedText']"
   ]
  },
  {
   "cell_type": "code",
   "execution_count": 7,
   "metadata": {},
   "outputs": [
    {
     "data": {
      "text/plain": [
       "'This movie was perfect!'"
      ]
     },
     "execution_count": 7,
     "metadata": {},
     "output_type": "execute_result"
    }
   ],
   "source": [
    "translate('Este filme foi perfeito!')"
   ]
  },
  {
   "cell_type": "code",
   "execution_count": 8,
   "metadata": {
    "collapsed": true
   },
   "outputs": [],
   "source": [
    "def results_sentiments_pt(sentences):\n",
    "    sentences = map(lambda x: (x,translate(x)), sentences)\n",
    "    for pt, en in sentences:\n",
    "        vs = analyzer.polarity_scores(en)\n",
    "        print(\"{:-<50} {}\".format(pt, str(vs)))"
   ]
  },
  {
   "cell_type": "code",
   "execution_count": 9,
   "metadata": {},
   "outputs": [
    {
     "ename": "NameError",
     "evalue": "name 'analyzer' is not defined",
     "output_type": "error",
     "traceback": [
      "\u001b[0;31m---------------------------------------------------------------------------\u001b[0m",
      "\u001b[0;31mNameError\u001b[0m                                 Traceback (most recent call last)",
      "\u001b[0;32m<ipython-input-9-a6628b24df6e>\u001b[0m in \u001b[0;36m<module>\u001b[0;34m()\u001b[0m\n\u001b[0;32m----> 1\u001b[0;31m \u001b[0mresults_sentiments_pt\u001b[0m\u001b[0;34m(\u001b[0m\u001b[0;34m[\u001b[0m\u001b[0;34m'Este filme foi perfeito!'\u001b[0m\u001b[0;34m,\u001b[0m\u001b[0;34m'Ahh! Não gostei deste filme.'\u001b[0m\u001b[0;34m]\u001b[0m\u001b[0;34m)\u001b[0m\u001b[0;34m\u001b[0m\u001b[0m\n\u001b[0m",
      "\u001b[0;32m<ipython-input-8-990abfa96206>\u001b[0m in \u001b[0;36mresults_sentiments_pt\u001b[0;34m(sentences)\u001b[0m\n\u001b[1;32m      2\u001b[0m     \u001b[0msentences\u001b[0m \u001b[0;34m=\u001b[0m \u001b[0mmap\u001b[0m\u001b[0;34m(\u001b[0m\u001b[0;32mlambda\u001b[0m \u001b[0mx\u001b[0m\u001b[0;34m:\u001b[0m \u001b[0;34m(\u001b[0m\u001b[0mx\u001b[0m\u001b[0;34m,\u001b[0m\u001b[0mtranslate\u001b[0m\u001b[0;34m(\u001b[0m\u001b[0mx\u001b[0m\u001b[0;34m)\u001b[0m\u001b[0;34m)\u001b[0m\u001b[0;34m,\u001b[0m \u001b[0msentences\u001b[0m\u001b[0;34m)\u001b[0m\u001b[0;34m\u001b[0m\u001b[0m\n\u001b[1;32m      3\u001b[0m     \u001b[0;32mfor\u001b[0m \u001b[0mpt\u001b[0m\u001b[0;34m,\u001b[0m \u001b[0men\u001b[0m \u001b[0;32min\u001b[0m \u001b[0msentences\u001b[0m\u001b[0;34m:\u001b[0m\u001b[0;34m\u001b[0m\u001b[0m\n\u001b[0;32m----> 4\u001b[0;31m         \u001b[0mvs\u001b[0m \u001b[0;34m=\u001b[0m \u001b[0manalyzer\u001b[0m\u001b[0;34m.\u001b[0m\u001b[0mpolarity_scores\u001b[0m\u001b[0;34m(\u001b[0m\u001b[0men\u001b[0m\u001b[0;34m)\u001b[0m\u001b[0;34m\u001b[0m\u001b[0m\n\u001b[0m\u001b[1;32m      5\u001b[0m         \u001b[0mprint\u001b[0m\u001b[0;34m(\u001b[0m\u001b[0;34m\"{:-<50} {}\"\u001b[0m\u001b[0;34m.\u001b[0m\u001b[0mformat\u001b[0m\u001b[0;34m(\u001b[0m\u001b[0mpt\u001b[0m\u001b[0;34m,\u001b[0m \u001b[0mstr\u001b[0m\u001b[0;34m(\u001b[0m\u001b[0mvs\u001b[0m\u001b[0;34m)\u001b[0m\u001b[0;34m)\u001b[0m\u001b[0;34m)\u001b[0m\u001b[0;34m\u001b[0m\u001b[0m\n",
      "\u001b[0;31mNameError\u001b[0m: name 'analyzer' is not defined"
     ]
    }
   ],
   "source": [
    "results_sentiments_pt(['Este filme foi perfeito!','Ahh! Não gostei deste filme.'])"
   ]
  },
  {
   "cell_type": "code",
   "execution_count": null,
   "metadata": {
    "collapsed": true
   },
   "outputs": [],
   "source": []
  }
 ],
 "metadata": {
  "kernelspec": {
   "display_name": "Python 3",
   "language": "python",
   "name": "python3"
  },
  "language_info": {
   "codemirror_mode": {
    "name": "ipython",
    "version": 3
   },
   "file_extension": ".py",
   "mimetype": "text/x-python",
   "name": "python",
   "nbconvert_exporter": "python",
   "pygments_lexer": "ipython3",
   "version": "3.5.2"
  }
 },
 "nbformat": 4,
 "nbformat_minor": 2
}
